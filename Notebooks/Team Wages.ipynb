{
 "cells": [
  {
   "cell_type": "code",
   "execution_count": 1,
   "metadata": {},
   "outputs": [],
   "source": [
    "import pandas as pd\n",
    "import requests "
   ]
  },
  {
   "cell_type": "code",
   "execution_count": 3,
   "metadata": {},
   "outputs": [],
   "source": [
    "def get_wages(years, league, id):\n",
    "    wage_df = pd.DataFrame()\n",
    "    for season in years:\n",
    "        print(f\"Getting data for {season}\")\n",
    "        url = f\"https://fbref.com/en/comps/{id}/{season}-{season+1}/wages/{season}-{season+1}-{league}-Wages\"\n",
    "        response = requests.get(url).text.replace('<!--', '').replace('-->', '')\n",
    "        df = pd.read_html(response, header=0)[0]\n",
    "        df = df[['Squad', 'Weekly Wages']]\n",
    "        df['Season'] = season\n",
    "        df['Weekly Wages'] = df['Weekly Wages'].str.replace(',','')\n",
    "        df['Weekly Wages'] = df['Weekly Wages'].str.split('£ ', expand=True)[1].str.split('(', expand=True)[0].astype(int)\n",
    "        wage_df = pd.concat([wage_df, df])\n",
    "    return wage_df"
   ]
  },
  {
   "cell_type": "code",
   "execution_count": 48,
   "metadata": {},
   "outputs": [
    {
     "name": "stdout",
     "output_type": "stream",
     "text": [
      "Getting data for 2024\n",
      "Getting data for 2023\n",
      "Getting data for 2022\n",
      "Getting data for 2021\n",
      "Getting data for 2020\n",
      "Getting data for 2019\n",
      "Getting data for 2018\n",
      "Getting data for 2017\n"
     ]
    }
   ],
   "source": [
    "years = list(range(2024, 2016, -1))\n",
    "league = 'Premier League'\n",
    "id = '9'\n",
    "league_dashed = league.replace(' ', '-')\n",
    "df_wages = get_wages(years, league_dashed, id)"
   ]
  },
  {
   "cell_type": "code",
   "execution_count": 50,
   "metadata": {},
   "outputs": [],
   "source": [
    "df_wages.to_excel(r\"C:\\Users\\George\\Documents\\University\\Masters\\DISS\\Datasets\\WAGE DATA.xlsx\")"
   ]
  }
 ],
 "metadata": {
  "kernelspec": {
   "display_name": "Python 3",
   "language": "python",
   "name": "python3"
  },
  "language_info": {
   "codemirror_mode": {
    "name": "ipython",
    "version": 3
   },
   "file_extension": ".py",
   "mimetype": "text/x-python",
   "name": "python",
   "nbconvert_exporter": "python",
   "pygments_lexer": "ipython3",
   "version": "3.11.5"
  }
 },
 "nbformat": 4,
 "nbformat_minor": 2
}
