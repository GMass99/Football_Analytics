{
 "cells": [
  {
   "cell_type": "code",
   "execution_count": 12,
   "metadata": {},
   "outputs": [],
   "source": [
    "import pandas as pd\n",
    "import matplotlib\n",
    "import matplotlib.pyplot as plt\n",
    "from plottable import ColumnDefinition, Table\n",
    "from plottable.cmap import normed_cmap\n",
    "from plottable.plots import image\n",
    "import requests"
   ]
  },
  {
   "cell_type": "code",
   "execution_count": 13,
   "metadata": {},
   "outputs": [],
   "source": [
    "url = 'https://fbref.com/en/comps/10/keepers/Championship-Stats#all_stats_keeper'\n",
    "response = requests.get(url).text.replace('<!--', '').replace('-->', '')\n",
    "df_keeper = pd.read_html(response, header = 1)[2]\n",
    "df_keeper = df_keeper[df_keeper['Rk'] != 'Rk']\n",
    "df_keeper = df_keeper[df_keeper['Squad'] == 'Norwich City'].reset_index(drop = True)"
   ]
  },
  {
   "cell_type": "code",
   "execution_count": 14,
   "metadata": {},
   "outputs": [],
   "source": [
    "url = 'https://fbref.com/en/comps/10/keepersadv/Championship-Stats#all_stats_keeper_adv'\n",
    "response = requests.get(url).text.replace('<!--', '').replace('-->', '')\n",
    "df_keeper_adv = pd.read_html(response, header = 1)[2]\n",
    "df_keeper_adv = df_keeper_adv[df_keeper_adv['Rk'] != 'Rk']\n",
    "df_keeper_adv = df_keeper_adv[df_keeper_adv['Squad'] == 'Norwich City'].reset_index(drop = True)\n",
    "df_keeper_adv = df_keeper_adv.drop(['Rk','Nation','Pos','Squad','Age','Born','Matches','90s'], axis = 1)"
   ]
  },
  {
   "cell_type": "code",
   "execution_count": 15,
   "metadata": {},
   "outputs": [],
   "source": [
    "df = pd.concat([df_keeper, df_keeper_adv], axis = 1)"
   ]
  },
  {
   "cell_type": "code",
   "execution_count": 16,
   "metadata": {},
   "outputs": [],
   "source": [
    "url = 'https://fbref.com/en/comps/10/passing/Championship-Stats#all_stats_passing'\n",
    "response = requests.get(url).text.replace('<!--', '').replace('-->', '')\n",
    "df_passing = pd.read_html(response, header = 1)[2]\n",
    "df_passing = df_passing[df_passing['Rk'] != 'Rk']\n",
    "df_passing = df_passing[df_passing['Squad'] == 'Norwich City']\n",
    "df_passing = df_passing[df_passing['Pos'] == 'GK'].reset_index(drop = True)\n",
    "df_passing = df_passing.drop(['Rk','Nation','Pos','Squad','Age','Born','Matches','90s'], axis = 1)"
   ]
  },
  {
   "cell_type": "code",
   "execution_count": 17,
   "metadata": {},
   "outputs": [],
   "source": [
    "df = pd.concat([df, df_passing], axis = 1)"
   ]
  },
  {
   "cell_type": "code",
   "execution_count": 18,
   "metadata": {},
   "outputs": [
    {
     "data": {
      "text/html": [
       "<div>\n",
       "<style scoped>\n",
       "    .dataframe tbody tr th:only-of-type {\n",
       "        vertical-align: middle;\n",
       "    }\n",
       "\n",
       "    .dataframe tbody tr th {\n",
       "        vertical-align: top;\n",
       "    }\n",
       "\n",
       "    .dataframe thead th {\n",
       "        text-align: right;\n",
       "    }\n",
       "</style>\n",
       "<table border=\"1\" class=\"dataframe\">\n",
       "  <thead>\n",
       "    <tr style=\"text-align: right;\">\n",
       "      <th></th>\n",
       "      <th>Rk</th>\n",
       "      <th>Player</th>\n",
       "      <th>Nation</th>\n",
       "      <th>Pos</th>\n",
       "      <th>Squad</th>\n",
       "      <th>Age</th>\n",
       "      <th>Born</th>\n",
       "      <th>MP</th>\n",
       "      <th>Starts</th>\n",
       "      <th>Min</th>\n",
       "      <th>...</th>\n",
       "      <th>Cmp%.3</th>\n",
       "      <th>Ast</th>\n",
       "      <th>xAG</th>\n",
       "      <th>xA</th>\n",
       "      <th>A-xAG</th>\n",
       "      <th>KP</th>\n",
       "      <th>1/3</th>\n",
       "      <th>PPA</th>\n",
       "      <th>CrsPA</th>\n",
       "      <th>PrgP</th>\n",
       "    </tr>\n",
       "  </thead>\n",
       "  <tbody>\n",
       "    <tr>\n",
       "      <th>0</th>\n",
       "      <td>19</td>\n",
       "      <td>Angus Gunn</td>\n",
       "      <td>sct SCO</td>\n",
       "      <td>GK</td>\n",
       "      <td>Norwich City</td>\n",
       "      <td>28-095</td>\n",
       "      <td>1996</td>\n",
       "      <td>38</td>\n",
       "      <td>38</td>\n",
       "      <td>3360</td>\n",
       "      <td>...</td>\n",
       "      <td>44.9</td>\n",
       "      <td>0</td>\n",
       "      <td>0.0</td>\n",
       "      <td>0.0</td>\n",
       "      <td>0.0</td>\n",
       "      <td>0</td>\n",
       "      <td>13</td>\n",
       "      <td>0</td>\n",
       "      <td>0</td>\n",
       "      <td>1</td>\n",
       "    </tr>\n",
       "    <tr>\n",
       "      <th>1</th>\n",
       "      <td>29</td>\n",
       "      <td>George Long</td>\n",
       "      <td>eng ENG</td>\n",
       "      <td>GK</td>\n",
       "      <td>Norwich City</td>\n",
       "      <td>30-173</td>\n",
       "      <td>1993</td>\n",
       "      <td>7</td>\n",
       "      <td>6</td>\n",
       "      <td>600</td>\n",
       "      <td>...</td>\n",
       "      <td>19.0</td>\n",
       "      <td>0</td>\n",
       "      <td>0.0</td>\n",
       "      <td>0.0</td>\n",
       "      <td>0.0</td>\n",
       "      <td>0</td>\n",
       "      <td>0</td>\n",
       "      <td>0</td>\n",
       "      <td>0</td>\n",
       "      <td>0</td>\n",
       "    </tr>\n",
       "  </tbody>\n",
       "</table>\n",
       "<p>2 rows × 77 columns</p>\n",
       "</div>"
      ],
      "text/plain": [
       "   Rk       Player   Nation Pos         Squad     Age  Born  MP Starts   Min  \\\n",
       "0  19   Angus Gunn  sct SCO  GK  Norwich City  28-095  1996  38     38  3360   \n",
       "1  29  George Long  eng ENG  GK  Norwich City  30-173  1993   7      6   600   \n",
       "\n",
       "   ... Cmp%.3 Ast  xAG   xA A-xAG KP 1/3 PPA CrsPA PrgP  \n",
       "0  ...   44.9   0  0.0  0.0   0.0  0  13   0     0    1  \n",
       "1  ...   19.0   0  0.0  0.0   0.0  0   0   0     0    0  \n",
       "\n",
       "[2 rows x 77 columns]"
      ]
     },
     "execution_count": 18,
     "metadata": {},
     "output_type": "execute_result"
    }
   ],
   "source": [
    "df"
   ]
  }
 ],
 "metadata": {
  "kernelspec": {
   "display_name": "base",
   "language": "python",
   "name": "python3"
  },
  "language_info": {
   "codemirror_mode": {
    "name": "ipython",
    "version": 3
   },
   "file_extension": ".py",
   "mimetype": "text/x-python",
   "name": "python",
   "nbconvert_exporter": "python",
   "pygments_lexer": "ipython3",
   "version": "3.11.5"
  }
 },
 "nbformat": 4,
 "nbformat_minor": 2
}
