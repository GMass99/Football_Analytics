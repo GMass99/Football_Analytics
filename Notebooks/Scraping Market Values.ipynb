{
 "cells": [
  {
   "cell_type": "code",
   "execution_count": 1,
   "metadata": {},
   "outputs": [],
   "source": [
    "import re\n",
    "import requests\n",
    "import pandas as pd\n",
    "\n",
    "from bs4 import BeautifulSoup"
   ]
  },
  {
   "cell_type": "code",
   "execution_count": 2,
   "metadata": {},
   "outputs": [],
   "source": [
    "class MissingDict(dict):\n",
    "    __missing__ = lambda self, key: key\n",
    "\n",
    "map_values = {\"Brighton and Hove Albion\": \"Brighton\", \"Huddersfield Town\":\"Huddersfield\",\"Manchester United\": \"Manchester Utd\", \"Newcastle United\": \"Newcastle Utd\", \"Nottingham Forest\":\"Nott'ham Forest\",\"Tottenham Hotspur\": \"Tottenham\",\"Sheffield United\":\"Sheffield Utd\", \"West Ham United\": \"West Ham\",\"West Bromwich Albion\":\"West Brom\", \"Wolverhampton Wanderers\": \"Wolves\",\"Wycombe Wanderers\":\"Wycombe\",\"Sheffield Wednesday\":\"Sheffield Weds\",\"Queens Park Rangers\":\"QPR\",\"Rotherham United\":\"Rotherham Utd\",\"Preston North End\":\"Preston\",\"Peterborough United\":\"P'borough Utd\",\"Charlton Athletic\":\"Charlton Ath\",\"Bolton Wanderers\":\"Bolton\",\"Blackburn Rovers\":\"Blackburn\"} \n",
    "mapping = MissingDict(**map_values)"
   ]
  },
  {
   "cell_type": "code",
   "execution_count": 3,
   "metadata": {},
   "outputs": [],
   "source": [
    "def get_market_value(years, league, div, country):\n",
    "    market_value_df = pd.DataFrame()\n",
    "    for season in years:\n",
    "        url = f'https://www.transfermarkt.co.uk/{league.lower()}/startseite/wettbewerb/{country}{div}/plus/?saison_id={season}'\n",
    "        headers = {\n",
    "            \"User-Agent\":\"Mozilla/5.0 (Windows NT 10.0; Win64; x64) AppleWebKit/537.36 (KHTML, like Gecko) Chrome/121.0.0.0 Safari/537.36\"\n",
    "            }\n",
    "        response = requests.get(url, headers=headers)\n",
    "        soup = BeautifulSoup(response.content, 'html.parser')\n",
    "        teams = []\n",
    "        list = soup.select('td[class=\"hauptlink no-border-links\"]')\n",
    "        for y in range(len(list)):\n",
    "            team = list[y].text.strip()\n",
    "            teams.append(team)\n",
    "        df = pd.DataFrame(teams)\n",
    "        df.columns = ['Team']\n",
    "        df['Season'] = season\n",
    "        mvalue = []\n",
    "        value = soup.select('td[class=\"rechts\"]')\n",
    "        value = value[1::2]\n",
    "        value = value[1:]\n",
    "        for x in range(len(value)):\n",
    "            mvalue.append(value[x].text.strip())\n",
    "        df['Market Value'] = mvalue\n",
    "        df['Team'] = df['Team'].str.replace('FC','')\n",
    "        df['Team'] = df['Team'].str.replace('A ','')\n",
    "        df['Team'] = df['Team'].str.replace('&','and')\n",
    "        df['Team'] = df['Team'].map(mapping)\n",
    "        df['Team'] = df['Team'].str.strip()\n",
    "        df['Market Value'] = df['Market Value'].str.replace('.','')\n",
    "        df_temp = df['Market Value'].str.strip('€').str.extract(r'(\\d+)([bnm]+)')\n",
    "        df_temp2 = df_temp[0] + df_temp[1].map({'bn': '0000000', 'm':'0000'})\n",
    "        df.drop('Market Value', axis=1, inplace=True)\n",
    "        df['Market Value'] = df_temp2\n",
    "        market_value_df = pd.concat([market_value_df, df])\n",
    "    return market_value_df\n"
   ]
  },
  {
   "cell_type": "code",
   "execution_count": 4,
   "metadata": {},
   "outputs": [],
   "source": [
    "years = list(range(2023, 2016, -1))\n",
    "league = 'premier-league'\n",
    "div = '1'\n",
    "country = 'GB'\n",
    "market_value_df = get_market_value(years, league, div, country)"
   ]
  },
  {
   "cell_type": "code",
   "execution_count": 5,
   "metadata": {},
   "outputs": [],
   "source": [
    "league = 'championship'\n",
    "div = '2'\n",
    "market_value_df2 = get_market_value(years, league, div, country)"
   ]
  },
  {
   "cell_type": "code",
   "execution_count": 6,
   "metadata": {},
   "outputs": [
    {
     "data": {
      "text/html": [
       "<div>\n",
       "<style scoped>\n",
       "    .dataframe tbody tr th:only-of-type {\n",
       "        vertical-align: middle;\n",
       "    }\n",
       "\n",
       "    .dataframe tbody tr th {\n",
       "        vertical-align: top;\n",
       "    }\n",
       "\n",
       "    .dataframe thead th {\n",
       "        text-align: right;\n",
       "    }\n",
       "</style>\n",
       "<table border=\"1\" class=\"dataframe\">\n",
       "  <thead>\n",
       "    <tr style=\"text-align: right;\">\n",
       "      <th></th>\n",
       "      <th>Team</th>\n",
       "      <th>Season</th>\n",
       "      <th>Market Value</th>\n",
       "    </tr>\n",
       "  </thead>\n",
       "  <tbody>\n",
       "    <tr>\n",
       "      <th>0</th>\n",
       "      <td>Southampton</td>\n",
       "      <td>2023</td>\n",
       "      <td>332480000</td>\n",
       "    </tr>\n",
       "    <tr>\n",
       "      <th>1</th>\n",
       "      <td>Leeds United</td>\n",
       "      <td>2023</td>\n",
       "      <td>244500000</td>\n",
       "    </tr>\n",
       "    <tr>\n",
       "      <th>2</th>\n",
       "      <td>Leicester City</td>\n",
       "      <td>2023</td>\n",
       "      <td>242850000</td>\n",
       "    </tr>\n",
       "    <tr>\n",
       "      <th>3</th>\n",
       "      <td>Hull City</td>\n",
       "      <td>2023</td>\n",
       "      <td>126830000</td>\n",
       "    </tr>\n",
       "    <tr>\n",
       "      <th>4</th>\n",
       "      <td>Middlesbrough</td>\n",
       "      <td>2023</td>\n",
       "      <td>107580000</td>\n",
       "    </tr>\n",
       "    <tr>\n",
       "      <th>...</th>\n",
       "      <td>...</td>\n",
       "      <td>...</td>\n",
       "      <td>...</td>\n",
       "    </tr>\n",
       "    <tr>\n",
       "      <th>19</th>\n",
       "      <td>Preston</td>\n",
       "      <td>2017</td>\n",
       "      <td>24750000</td>\n",
       "    </tr>\n",
       "    <tr>\n",
       "      <th>20</th>\n",
       "      <td>Sheffield Utd</td>\n",
       "      <td>2017</td>\n",
       "      <td>23750000</td>\n",
       "    </tr>\n",
       "    <tr>\n",
       "      <th>21</th>\n",
       "      <td>Barnsley</td>\n",
       "      <td>2017</td>\n",
       "      <td>21700000</td>\n",
       "    </tr>\n",
       "    <tr>\n",
       "      <th>22</th>\n",
       "      <td>Millwall</td>\n",
       "      <td>2017</td>\n",
       "      <td>15130000</td>\n",
       "    </tr>\n",
       "    <tr>\n",
       "      <th>23</th>\n",
       "      <td>Burton Albion</td>\n",
       "      <td>2017</td>\n",
       "      <td>14400000</td>\n",
       "    </tr>\n",
       "  </tbody>\n",
       "</table>\n",
       "<p>168 rows × 3 columns</p>\n",
       "</div>"
      ],
      "text/plain": [
       "              Team  Season Market Value\n",
       "0      Southampton    2023    332480000\n",
       "1     Leeds United    2023    244500000\n",
       "2   Leicester City    2023    242850000\n",
       "3        Hull City    2023    126830000\n",
       "4    Middlesbrough    2023    107580000\n",
       "..             ...     ...          ...\n",
       "19         Preston    2017     24750000\n",
       "20   Sheffield Utd    2017     23750000\n",
       "21        Barnsley    2017     21700000\n",
       "22        Millwall    2017     15130000\n",
       "23   Burton Albion    2017     14400000\n",
       "\n",
       "[168 rows x 3 columns]"
      ]
     },
     "execution_count": 6,
     "metadata": {},
     "output_type": "execute_result"
    }
   ],
   "source": [
    "market_value_df2"
   ]
  },
  {
   "cell_type": "code",
   "execution_count": 7,
   "metadata": {},
   "outputs": [],
   "source": [
    "market_value_df = pd.concat([market_value_df, market_value_df2])"
   ]
  },
  {
   "cell_type": "code",
   "execution_count": 8,
   "metadata": {},
   "outputs": [],
   "source": [
    "def get_market_value_current(season, league, div, country):\n",
    "    url = f\"https://www.transfermarkt.co.uk/{league.lower()}/marktwerteverein/wettbewerb/{country}{div}\"#/plus/?stichtag={season}-0{month}-0{day}\"\n",
    "    headers = {\"User-Agent\":\"Mozilla/5.0 (Windows NT 10.0; Win64; x64) AppleWebKit/537.36 (KHTML, like Gecko) Chrome/121.0.0.0 Safari/537.36\"}\n",
    "    response = requests.get(url, headers=headers)\n",
    "    soup = BeautifulSoup(response.content, 'html.parser')\n",
    "    teams = []\n",
    "    list = soup.select('td[class=\"hauptlink no-border-links\"]')\n",
    "    teams = []\n",
    "    for y in range(len(list)):\n",
    "            team = list[y].text.strip()\n",
    "            teams.append(team)\n",
    "    df = pd.DataFrame(teams)\n",
    "    df.columns = ['Team']\n",
    "    df['Season'] = season\n",
    "    mvalue = []\n",
    "    value = soup.select('td[class=\"rechts hauptlink\"]')\n",
    "    value = value[:-10]\n",
    "    for x in range(len(value)):\n",
    "            mvalue.append(value[x].text.strip())\n",
    "    df['Market Value'] = mvalue\n",
    "    df['Team'] = df['Team'].str.replace('FC','')\n",
    "    df['Team'] = df['Team'].str.replace('A ','')\n",
    "    df['Team'] = df['Team'].str.replace('&','and')\n",
    "    df['Team'] = df['Team'].map(mapping)\n",
    "    df['Team'] = df['Team'].str.strip()\n",
    "    df['Market Value'] = df['Market Value'].str.replace('.','')\n",
    "    df_temp = df['Market Value'].str.strip('€').str.extract(r'(\\d+)([bnm]+)')\n",
    "    df_temp2 = df_temp[0] + df_temp[1].map({'bn': '0000000', 'm':'0000'})\n",
    "    df.drop('Market Value', axis=1, inplace=True)\n",
    "    df['Market Value'] = df_temp2\n",
    "    return df"
   ]
  },
  {
   "cell_type": "code",
   "execution_count": 9,
   "metadata": {},
   "outputs": [],
   "source": [
    "market_value_df_current = get_market_value_current(2024, 'premier-league', '1', 'GB')"
   ]
  },
  {
   "cell_type": "code",
   "execution_count": 10,
   "metadata": {},
   "outputs": [],
   "source": [
    "market_value_df = pd.concat([market_value_df, market_value_df_current])"
   ]
  },
  {
   "cell_type": "code",
   "execution_count": 13,
   "metadata": {},
   "outputs": [],
   "source": [
    "market_value_df.to_excel(r\"C:\\Users\\George\\Documents\\University\\Masters\\DISS\\Datasets\\MARKET VALUE DATA.xlsx\")"
   ]
  }
 ],
 "metadata": {
  "kernelspec": {
   "display_name": "base",
   "language": "python",
   "name": "python3"
  },
  "language_info": {
   "codemirror_mode": {
    "name": "ipython",
    "version": 3
   },
   "file_extension": ".py",
   "mimetype": "text/x-python",
   "name": "python",
   "nbconvert_exporter": "python",
   "pygments_lexer": "ipython3",
   "version": "3.11.5"
  }
 },
 "nbformat": 4,
 "nbformat_minor": 2
}
